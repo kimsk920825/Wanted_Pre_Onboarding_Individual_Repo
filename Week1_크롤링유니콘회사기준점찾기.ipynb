{
 "cells": [
  {
   "cell_type": "code",
   "execution_count": null,
   "metadata": {},
   "outputs": [],
   "source": [
    "from selenium import webdriver\n",
    "from selenium.webdriver.common.by import By\n",
    "from selenium.webdriver.support.ui import WebDriverWait\n",
    "from selenium.webdriver.support import expected_conditions as EC\n",
    "from selenium.common.exceptions import TimeoutException\n",
    "import time\n",
    "import openpyxl\n",
    "\n",
    "work_book = openpyxl.Workbook()\n",
    "work_sheet = work_book.active\n",
    "work_sheet.append([\"댓글순\",\"댓글내용\"])\n",
    "#work_sheet.title = 'review'\n",
    "work_sheet.column_dimensions['A'].width = 20\n",
    "work_sheet.column_dimensions['B'].width = 60\n",
    "\n",
    "num = 0\n",
    "count = 2\n",
    "chromedriver = '/usr/local/Cellar/chromdriver/chromdriver'\n",
    "driver = webdriver.Chrome(chromedriver)\n",
    "driver.get('https://www.jobplanet.co.kr/reviews?&page=2')\n",
    "time.sleep(3)\n",
    "###1. 리뷰 버튼 클릭 \n",
    "review_button = driver.find_elements_by_css_selector('#content > div > div.z7cS6-TO7X > div._27jmWaPaKy > ul > li > a')\n",
    "webdriver.ActionChains(driver).click(review_button[1]).perform()\n",
    "###2. 첫페이지 전체 댓글 틀 크롤링.\n",
    "whole_review_page = driver.find_element_by_css_selector('#REVIEW > div > div._2y6yIawL6t > div > div.cv6id6JEkg > ul')\n",
    "###3. 전체 크롤링 한 틀중 li태그를 list형태로 크롤링.\n",
    "single_review_list = whole_review_page.find_elements_by_css_selector('li')  \n",
    "###4. 리스트 형태로 들어온 li태그들을 for문으로 각각 명령을 준다. \n",
    "for single_element in single_review_list:\n",
    "    print(str(num+1)+\".\"+single_element.find_element_by_css_selector('div > div._30o7PGmsIy > div > div._1XNnRviOK8 > div > div._1YShY6EQ56 > div._19SE1Dnqkf > div > span._3QDEeS6NLn').text)\n",
    "    num+=1\n",
    "    print('----------------------------------------------------------------------------')   \n",
    "    work_sheet.append([num+1,single_element.find_element_by_css_selector('div > div._30o7PGmsIy > div > div._1XNnRviOK8 > div > div._1YShY6EQ56 > div._19SE1Dnqkf > div > span._3QDEeS6NLn').text])\n",
    "\n",
    "# ###1. 다음 페이지 2번 버튼 클릭\n",
    "# click_button_nextpage = driver.find_elements_by_css_selector('#REVIEW > div > div._2y6yIawL6t > div > div.cv6id6JEkg > div > div > a')\n",
    "# click_button_nextpage2= webdriver.ActionChains(driver).click(click_button_nextpage[2]).perform()\n",
    "# time.sleep(3)\n",
    "# ###2. 두 번째 페이지 전체 댓글 틀 크롤링.\n",
    "# whole_review_page2 = driver.find_element_by_css_selector('#REVIEW > div > div._2y6yIawL6t > div > div.cv6id6JEkg > ul')\n",
    "# ###3. 두 번째 크롤링 한 틀중 li태그를 list형태로 크롤링.\n",
    "# single_review_list2 = whole_review_page2.find_elements_by_css_selector('li')\n",
    "# ###4. 리스트 형태로 들어온 li태그들을 for문으로 각각 명령을 준다. \n",
    "# for single_element in single_review_list2:\n",
    "#     print(str(num+1)+\".\"+single_element.find_element_by_css_selector('div > div._30o7PGmsIy > div > div._1XNnRviOK8 > div > div._1YShY6EQ56 > div._19SE1Dnqkf > div > span._3QDEeS6NLn').text) \n",
    "#     num+=1\n",
    "#     print('----------------------------------------------------------------------------') \n",
    "\n",
    "#페이지 6까지 크롤링\n",
    "\n",
    "while count <7:\n",
    "    ###1. 다음 페이지 n번 버튼 클릭\n",
    "    click_button_nextpage = driver.find_elements_by_css_selector('#REVIEW > div > div._2y6yIawL6t > div > div.cv6id6JEkg > div > div > a')\n",
    "    click_button_nextpagenth= webdriver.ActionChains(driver).click(click_button_nextpage[count]).perform()\n",
    "    time.sleep(3)\n",
    "    ###2. 두 번째 페이지 전체 댓글 틀 크롤링.\n",
    "    whole_review_pagenth = driver.find_element_by_css_selector('#REVIEW > div > div._2y6yIawL6t > div > div.cv6id6JEkg > ul')\n",
    "    ###3. 두 번째 크롤링 한 틀중 li태그를 list형태로 크롤링.\n",
    "    single_review_listnth = whole_review_pagenth.find_elements_by_css_selector('li')\n",
    "    ###4. 리스트 형태로 들어온 li태그들을 for문으로 각각 명령을 준다. \n",
    "    for single_element in single_review_listnth:\n",
    "        print(str(num+1)+\".\"+single_element.find_element_by_css_selector('div > div._30o7PGmsIy > div > div._1XNnRviOK8 > div > div._1YShY6EQ56 > div._19SE1Dnqkf > div > span._3QDEeS6NLn').text) \n",
    "        num+=1\n",
    "        print('----------------------------------------------------------------------------') \n",
    "        work_sheet.append([num+1,single_element.find_element_by_css_selector('div > div._30o7PGmsIy > div > div._1XNnRviOK8 > div > div._1YShY6EQ56 > div._19SE1Dnqkf > div > span._3QDEeS6NLn').text])\n",
    "    count +=1\n",
    "\n",
    "work_book.save('유니콘회사기준점찾기')\n",
    "work_book.close()"
   ]
  }
 ],
 "metadata": {
  "kernelspec": {
   "display_name": "Python 3",
   "language": "python",
   "name": "python3"
  },
  "language_info": {
   "codemirror_mode": {
    "name": "ipython",
    "version": 3
   },
   "file_extension": ".py",
   "mimetype": "text/x-python",
   "name": "python",
   "nbconvert_exporter": "python",
   "pygments_lexer": "ipython3",
   "version": "3.7.6"
  },
  "toc": {
   "base_numbering": 1,
   "nav_menu": {},
   "number_sections": true,
   "sideBar": true,
   "skip_h1_title": false,
   "title_cell": "Table of Contents",
   "title_sidebar": "Contents",
   "toc_cell": false,
   "toc_position": {},
   "toc_section_display": true,
   "toc_window_display": false
  },
  "varInspector": {
   "cols": {
    "lenName": 16,
    "lenType": 16,
    "lenVar": 40
   },
   "kernels_config": {
    "python": {
     "delete_cmd_postfix": "",
     "delete_cmd_prefix": "del ",
     "library": "var_list.py",
     "varRefreshCmd": "print(var_dic_list())"
    },
    "r": {
     "delete_cmd_postfix": ") ",
     "delete_cmd_prefix": "rm(",
     "library": "var_list.r",
     "varRefreshCmd": "cat(var_dic_list()) "
    }
   },
   "types_to_exclude": [
    "module",
    "function",
    "builtin_function_or_method",
    "instance",
    "_Feature"
   ],
   "window_display": false
  }
 },
 "nbformat": 4,
 "nbformat_minor": 4
}
